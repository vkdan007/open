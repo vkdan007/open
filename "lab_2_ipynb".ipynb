{
  "nbformat": 4,
  "nbformat_minor": 0,
  "metadata": {
    "colab": {
      "provenance": [],
      "include_colab_link": true
    },
    "kernelspec": {
      "name": "python3",
      "display_name": "Python 3"
    },
    "language_info": {
      "name": "python"
    }
  },
  "cells": [
    {
      "cell_type": "markdown",
      "metadata": {
        "id": "view-in-github",
        "colab_type": "text"
      },
      "source": [
        "<a href=\"https://colab.research.google.com/github/vkdan007/open/blob/main/%22lab_2_ipynb%22.ipynb\" target=\"_parent\"><img src=\"https://colab.research.google.com/assets/colab-badge.svg\" alt=\"Open In Colab\"/></a>"
      ]
    },
    {
      "cell_type": "markdown",
      "source": [
        "# Занятие 2. Зависимость удельной $E_{св}$ от массового числа  \n",
        "1. Гит: ветки, пулл-реквесты.  \n",
        "2. Импорт собственных функций в ноутбук.  \n",
        "3. Метод \\_\\_dict\\_\\_  \n",
        "4. DataFrame библиотеки pandas  \n",
        "5. Методы apply, drop\n",
        "6. График энергии связи на нуклон"
      ],
      "metadata": {
        "id": "ak6NkPu78sFq"
      }
    },
    {
      "cell_type": "markdown",
      "source": [
        "## Подготовка"
      ],
      "metadata": {
        "id": "dsU5Bgzh83IF"
      }
    },
    {
      "cell_type": "code",
      "source": [
        "!pip install mendeleev"
      ],
      "metadata": {
        "id": "btzmWBJJ_DXo",
        "colab": {
          "base_uri": "https://localhost:8080/"
        },
        "outputId": "6403cba3-25f4-4940-bd4e-4a24de7f0ba3",
        "collapsed": true
      },
      "execution_count": 41,
      "outputs": [
        {
          "output_type": "stream",
          "name": "stdout",
          "text": [
            "Requirement already satisfied: mendeleev in /usr/local/lib/python3.10/dist-packages (0.18.1)\n",
            "Requirement already satisfied: Pygments<3.0.0,>=2.11.2 in /usr/local/lib/python3.10/dist-packages (from mendeleev) (2.18.0)\n",
            "Requirement already satisfied: SQLAlchemy>=1.4.0 in /usr/local/lib/python3.10/dist-packages (from mendeleev) (2.0.35)\n",
            "Requirement already satisfied: colorama<0.5.0,>=0.4.6 in /usr/local/lib/python3.10/dist-packages (from mendeleev) (0.4.6)\n",
            "Requirement already satisfied: numpy<2.0,>=1.21 in /usr/local/lib/python3.10/dist-packages (from mendeleev) (1.26.4)\n",
            "Requirement already satisfied: pandas>=1.0.0 in /usr/local/lib/python3.10/dist-packages (from mendeleev) (2.2.2)\n",
            "Requirement already satisfied: pyfiglet<0.9,>=0.8.post1 in /usr/local/lib/python3.10/dist-packages (from mendeleev) (0.8.post1)\n",
            "Requirement already satisfied: python-dateutil>=2.8.2 in /usr/local/lib/python3.10/dist-packages (from pandas>=1.0.0->mendeleev) (2.8.2)\n",
            "Requirement already satisfied: pytz>=2020.1 in /usr/local/lib/python3.10/dist-packages (from pandas>=1.0.0->mendeleev) (2024.2)\n",
            "Requirement already satisfied: tzdata>=2022.7 in /usr/local/lib/python3.10/dist-packages (from pandas>=1.0.0->mendeleev) (2024.2)\n",
            "Requirement already satisfied: typing-extensions>=4.6.0 in /usr/local/lib/python3.10/dist-packages (from SQLAlchemy>=1.4.0->mendeleev) (4.12.2)\n",
            "Requirement already satisfied: greenlet!=0.4.17 in /usr/local/lib/python3.10/dist-packages (from SQLAlchemy>=1.4.0->mendeleev) (3.1.1)\n",
            "Requirement already satisfied: six>=1.5 in /usr/local/lib/python3.10/dist-packages (from python-dateutil>=2.8.2->pandas>=1.0.0->mendeleev) (1.16.0)\n"
          ]
        }
      ]
    },
    {
      "cell_type": "code",
      "source": [
        "from matplotlib import pyplot as plt\n",
        "import numpy as np\n",
        "import pandas as pd\n",
        "from mendeleev import element, get_all_elements, isotope, Isotope, Element"
      ],
      "metadata": {
        "id": "jK5QzpL08-b_"
      },
      "execution_count": 42,
      "outputs": []
    },
    {
      "cell_type": "code",
      "execution_count": 43,
      "metadata": {
        "id": "QXDy-_QE8Tgc",
        "colab": {
          "base_uri": "https://localhost:8080/"
        },
        "outputId": "30a58eba-df42-4aa6-d329-ae48eea96889",
        "collapsed": true
      },
      "outputs": [
        {
          "output_type": "execute_result",
          "data": {
            "text/plain": [
              "mappingproxy({'__module__': 'mendeleev.models',\n",
              "              '__doc__': '\\n    Isotope\\n\\n    Args:\\n        abundance (float): Abundance of the isotope\\n        abundance_uncertainty (float): Abundance uncertainty\\n        atomic_number (int): Atomic number\\n        discovery_year (int): Year the isotope was discovered\\n        g_factor (float): Dimensionless magnetic moment\\n        g_factor_uncertainty (float): Uncertainty for the `g_factor`\\n        half_life (float): Half life time\\n        half_life_uncertainty (float): Uncertainty for the `half_life`\\n        half_life_unit (str): Unit for the half life time\\n        is_radioactive (bool): A flag marking wheather the isotope is radioactive\\n        mass (float): Mass of the isotope\\n        mass_number (int): Mass number of the isotope\\n        mass_uncertainty (float): Uncertainty of the mass value\\n        parity (str): Parity, if present, it can be either `+` or `-`\\n        quadrupole_moment (float): Quadrupole moment\\n        quadrupole_moment_uncertainty (float): Uncertainty for the `quadrupole_moment`\\n        spin (str): Nuclear spin\\n    ',\n",
              "              '__tablename__': 'isotopes',\n",
              "              'id': <sqlalchemy.orm.attributes.InstrumentedAttribute at 0x78650d75c9a0>,\n",
              "              'abundance': <sqlalchemy.orm.attributes.InstrumentedAttribute at 0x78650d75ca40>,\n",
              "              'abundance_uncertainty': <sqlalchemy.orm.attributes.InstrumentedAttribute at 0x78650d75cae0>,\n",
              "              'atomic_number': <sqlalchemy.orm.attributes.InstrumentedAttribute at 0x78650d75cb80>,\n",
              "              'discovery_year': <sqlalchemy.orm.attributes.InstrumentedAttribute at 0x78650d75cc20>,\n",
              "              'g_factor': <sqlalchemy.orm.attributes.InstrumentedAttribute at 0x78650d75ccc0>,\n",
              "              'g_factor_uncertainty': <sqlalchemy.orm.attributes.InstrumentedAttribute at 0x78650d75cd60>,\n",
              "              'half_life': <sqlalchemy.orm.attributes.InstrumentedAttribute at 0x78650d75ce00>,\n",
              "              'half_life_uncertainty': <sqlalchemy.orm.attributes.InstrumentedAttribute at 0x78650d75cea0>,\n",
              "              'half_life_unit': <sqlalchemy.orm.attributes.InstrumentedAttribute at 0x78650d75cf40>,\n",
              "              'is_radioactive': <sqlalchemy.orm.attributes.InstrumentedAttribute at 0x78650d75cfe0>,\n",
              "              'mass': <sqlalchemy.orm.attributes.InstrumentedAttribute at 0x78650d75d080>,\n",
              "              'mass_number': <sqlalchemy.orm.attributes.InstrumentedAttribute at 0x78650d75d120>,\n",
              "              'mass_uncertainty': <sqlalchemy.orm.attributes.InstrumentedAttribute at 0x78650d75d1c0>,\n",
              "              'parity': <sqlalchemy.orm.attributes.InstrumentedAttribute at 0x78650d75d260>,\n",
              "              'quadrupole_moment': <sqlalchemy.orm.attributes.InstrumentedAttribute at 0x78650d75d300>,\n",
              "              'quadrupole_moment_uncertainty': <sqlalchemy.orm.attributes.InstrumentedAttribute at 0x78650d75d3a0>,\n",
              "              'spin': <sqlalchemy.orm.attributes.InstrumentedAttribute at 0x78650d75d440>,\n",
              "              'element': <sqlalchemy.orm.attributes.InstrumentedAttribute at 0x78650d75c860>,\n",
              "              'decay_modes': <sqlalchemy.orm.attributes.InstrumentedAttribute at 0x78650d75c900>,\n",
              "              'is_stable': <sqlalchemy.ext.hybrid.hybrid_property at 0x78650da4c2b0>,\n",
              "              '__str__': <function mendeleev.models.Isotope.__str__(self) -> str>,\n",
              "              '__repr__': <function mendeleev.models.Isotope.__repr__(self) -> str>,\n",
              "              '_sa_class_manager': <ClassManager of <class 'mendeleev.models.Isotope'> at 78650d759800>,\n",
              "              '__table__': Table('isotopes', MetaData(), Column('id', Integer(), table=<isotopes>, primary_key=True, nullable=False), Column('abundance', Float(), table=<isotopes>), Column('abundance_uncertainty', Float(), table=<isotopes>), Column('atomic_number', Integer(), ForeignKey('elements.atomic_number'), table=<isotopes>), Column('discovery_year', Integer(), table=<isotopes>), Column('g_factor', Float(), table=<isotopes>), Column('g_factor_uncertainty', Float(), table=<isotopes>), Column('half_life', Float(), table=<isotopes>), Column('half_life_uncertainty', Float(), table=<isotopes>), Column('half_life_unit', String(), table=<isotopes>), Column('is_radioactive', Boolean(), table=<isotopes>, nullable=False), Column('mass', Float(), table=<isotopes>, nullable=False), Column('mass_number', Integer(), table=<isotopes>, nullable=False), Column('mass_uncertainty', Float(), table=<isotopes>, nullable=False), Column('parity', String(), table=<isotopes>), Column('quadrupole_moment', Float(), table=<isotopes>), Column('quadrupole_moment_uncertainty', Float(), table=<isotopes>), Column('spin', String(), table=<isotopes>), schema=None),\n",
              "              '__init__': <function sqlalchemy.orm.instrumentation.__init__(self, **kwargs)>,\n",
              "              '__mapper__': <Mapper at 0x78650da4e3b0; Isotope>,\n",
              "              '__slotnames__': []})"
            ]
          },
          "metadata": {},
          "execution_count": 43
        }
      ],
      "source": [
        "Isotope.__dict__"
      ]
    },
    {
      "cell_type": "code",
      "source": [
        "isotopes = []\n",
        "elems = get_all_elements()\n",
        "for elem in elems:\n",
        "  isotopes.extend(elem.isotopes)"
      ],
      "metadata": {
        "id": "NDqcEZiQ_VL4"
      },
      "execution_count": 44,
      "outputs": []
    },
    {
      "cell_type": "code",
      "source": [
        "df = pd.DataFrame(data=isotopes, columns=['Iso'])\n"
      ],
      "metadata": {
        "id": "uKZ_3mSd_YlA"
      },
      "execution_count": 45,
      "outputs": []
    },
    {
      "cell_type": "code",
      "source": [
        "df['Z'] = df.apply(lambda x: x['Iso'].atomic_number, axis=1) #протон\n",
        "df['A'] = df.apply(lambda x: x['Iso'].mass_number, axis=1) #нуклон\n",
        "df['N'] = df.apply(lambda x: x['Iso'].mass_number-x['Iso'].atomic_number, axis=1) #нуклон\n",
        "df['mass'] = df.apply(lambda x: x['Iso'].mass, axis=1)"
      ],
      "metadata": {
        "id": "WtnBwQvVGZqj"
      },
      "execution_count": 46,
      "outputs": []
    },
    {
      "cell_type": "markdown",
      "source": [],
      "metadata": {
        "id": "35TQgfLo_PF9"
      }
    },
    {
      "cell_type": "code",
      "source": [
        "\n",
        "df"
      ],
      "metadata": {
        "colab": {
          "base_uri": "https://localhost:8080/",
          "height": 423
        },
        "id": "rwWO8xGN-Ltq",
        "outputId": "d20a9fb8-87f0-4655-efb9-6e741cf86720"
      },
      "execution_count": 47,
      "outputs": [
        {
          "output_type": "execute_result",
          "data": {
            "text/plain": [
              "                                                    Iso    Z    A    N  \\\n",
              "0     atomic_number=    1, mass_number=    1, mass=1...    1    1    0   \n",
              "1     atomic_number=    1, mass_number=    2, mass=2...    1    2    1   \n",
              "2     atomic_number=    1, mass_number=    3, mass=3...    1    3    2   \n",
              "3     atomic_number=    1, mass_number=    4, mass=4...    1    4    3   \n",
              "4     atomic_number=    1, mass_number=    5, mass=5...    1    5    4   \n",
              "...                                                 ...  ...  ...  ...   \n",
              "3552  atomic_number=  117, mass_number=  293, mass=2...  117  293  176   \n",
              "3553  atomic_number=  117, mass_number=  294, mass=2...  117  294  177   \n",
              "3554  atomic_number=  118, mass_number=  293, mass=2...  118  293  175   \n",
              "3555  atomic_number=  118, mass_number=  294, mass=2...  118  294  176   \n",
              "3556  atomic_number=  118, mass_number=  295, mass=2...  118  295  177   \n",
              "\n",
              "            mass  \n",
              "0       1.007825  \n",
              "1       2.014102  \n",
              "2       3.016049  \n",
              "3       4.026432  \n",
              "4       5.035311  \n",
              "...          ...  \n",
              "3552  293.208727  \n",
              "3553  294.210840  \n",
              "3554  293.213423  \n",
              "3555  294.213979  \n",
              "3556  295.216178  \n",
              "\n",
              "[3557 rows x 5 columns]"
            ],
            "text/html": [
              "\n",
              "  <div id=\"df-10bab995-4767-44ba-bb38-7debcfef410b\" class=\"colab-df-container\">\n",
              "    <div>\n",
              "<style scoped>\n",
              "    .dataframe tbody tr th:only-of-type {\n",
              "        vertical-align: middle;\n",
              "    }\n",
              "\n",
              "    .dataframe tbody tr th {\n",
              "        vertical-align: top;\n",
              "    }\n",
              "\n",
              "    .dataframe thead th {\n",
              "        text-align: right;\n",
              "    }\n",
              "</style>\n",
              "<table border=\"1\" class=\"dataframe\">\n",
              "  <thead>\n",
              "    <tr style=\"text-align: right;\">\n",
              "      <th></th>\n",
              "      <th>Iso</th>\n",
              "      <th>Z</th>\n",
              "      <th>A</th>\n",
              "      <th>N</th>\n",
              "      <th>mass</th>\n",
              "    </tr>\n",
              "  </thead>\n",
              "  <tbody>\n",
              "    <tr>\n",
              "      <th>0</th>\n",
              "      <td>atomic_number=    1, mass_number=    1, mass=1...</td>\n",
              "      <td>1</td>\n",
              "      <td>1</td>\n",
              "      <td>0</td>\n",
              "      <td>1.007825</td>\n",
              "    </tr>\n",
              "    <tr>\n",
              "      <th>1</th>\n",
              "      <td>atomic_number=    1, mass_number=    2, mass=2...</td>\n",
              "      <td>1</td>\n",
              "      <td>2</td>\n",
              "      <td>1</td>\n",
              "      <td>2.014102</td>\n",
              "    </tr>\n",
              "    <tr>\n",
              "      <th>2</th>\n",
              "      <td>atomic_number=    1, mass_number=    3, mass=3...</td>\n",
              "      <td>1</td>\n",
              "      <td>3</td>\n",
              "      <td>2</td>\n",
              "      <td>3.016049</td>\n",
              "    </tr>\n",
              "    <tr>\n",
              "      <th>3</th>\n",
              "      <td>atomic_number=    1, mass_number=    4, mass=4...</td>\n",
              "      <td>1</td>\n",
              "      <td>4</td>\n",
              "      <td>3</td>\n",
              "      <td>4.026432</td>\n",
              "    </tr>\n",
              "    <tr>\n",
              "      <th>4</th>\n",
              "      <td>atomic_number=    1, mass_number=    5, mass=5...</td>\n",
              "      <td>1</td>\n",
              "      <td>5</td>\n",
              "      <td>4</td>\n",
              "      <td>5.035311</td>\n",
              "    </tr>\n",
              "    <tr>\n",
              "      <th>...</th>\n",
              "      <td>...</td>\n",
              "      <td>...</td>\n",
              "      <td>...</td>\n",
              "      <td>...</td>\n",
              "      <td>...</td>\n",
              "    </tr>\n",
              "    <tr>\n",
              "      <th>3552</th>\n",
              "      <td>atomic_number=  117, mass_number=  293, mass=2...</td>\n",
              "      <td>117</td>\n",
              "      <td>293</td>\n",
              "      <td>176</td>\n",
              "      <td>293.208727</td>\n",
              "    </tr>\n",
              "    <tr>\n",
              "      <th>3553</th>\n",
              "      <td>atomic_number=  117, mass_number=  294, mass=2...</td>\n",
              "      <td>117</td>\n",
              "      <td>294</td>\n",
              "      <td>177</td>\n",
              "      <td>294.210840</td>\n",
              "    </tr>\n",
              "    <tr>\n",
              "      <th>3554</th>\n",
              "      <td>atomic_number=  118, mass_number=  293, mass=2...</td>\n",
              "      <td>118</td>\n",
              "      <td>293</td>\n",
              "      <td>175</td>\n",
              "      <td>293.213423</td>\n",
              "    </tr>\n",
              "    <tr>\n",
              "      <th>3555</th>\n",
              "      <td>atomic_number=  118, mass_number=  294, mass=2...</td>\n",
              "      <td>118</td>\n",
              "      <td>294</td>\n",
              "      <td>176</td>\n",
              "      <td>294.213979</td>\n",
              "    </tr>\n",
              "    <tr>\n",
              "      <th>3556</th>\n",
              "      <td>atomic_number=  118, mass_number=  295, mass=2...</td>\n",
              "      <td>118</td>\n",
              "      <td>295</td>\n",
              "      <td>177</td>\n",
              "      <td>295.216178</td>\n",
              "    </tr>\n",
              "  </tbody>\n",
              "</table>\n",
              "<p>3557 rows × 5 columns</p>\n",
              "</div>\n",
              "    <div class=\"colab-df-buttons\">\n",
              "\n",
              "  <div class=\"colab-df-container\">\n",
              "    <button class=\"colab-df-convert\" onclick=\"convertToInteractive('df-10bab995-4767-44ba-bb38-7debcfef410b')\"\n",
              "            title=\"Convert this dataframe to an interactive table.\"\n",
              "            style=\"display:none;\">\n",
              "\n",
              "  <svg xmlns=\"http://www.w3.org/2000/svg\" height=\"24px\" viewBox=\"0 -960 960 960\">\n",
              "    <path d=\"M120-120v-720h720v720H120Zm60-500h600v-160H180v160Zm220 220h160v-160H400v160Zm0 220h160v-160H400v160ZM180-400h160v-160H180v160Zm440 0h160v-160H620v160ZM180-180h160v-160H180v160Zm440 0h160v-160H620v160Z\"/>\n",
              "  </svg>\n",
              "    </button>\n",
              "\n",
              "  <style>\n",
              "    .colab-df-container {\n",
              "      display:flex;\n",
              "      gap: 12px;\n",
              "    }\n",
              "\n",
              "    .colab-df-convert {\n",
              "      background-color: #E8F0FE;\n",
              "      border: none;\n",
              "      border-radius: 50%;\n",
              "      cursor: pointer;\n",
              "      display: none;\n",
              "      fill: #1967D2;\n",
              "      height: 32px;\n",
              "      padding: 0 0 0 0;\n",
              "      width: 32px;\n",
              "    }\n",
              "\n",
              "    .colab-df-convert:hover {\n",
              "      background-color: #E2EBFA;\n",
              "      box-shadow: 0px 1px 2px rgba(60, 64, 67, 0.3), 0px 1px 3px 1px rgba(60, 64, 67, 0.15);\n",
              "      fill: #174EA6;\n",
              "    }\n",
              "\n",
              "    .colab-df-buttons div {\n",
              "      margin-bottom: 4px;\n",
              "    }\n",
              "\n",
              "    [theme=dark] .colab-df-convert {\n",
              "      background-color: #3B4455;\n",
              "      fill: #D2E3FC;\n",
              "    }\n",
              "\n",
              "    [theme=dark] .colab-df-convert:hover {\n",
              "      background-color: #434B5C;\n",
              "      box-shadow: 0px 1px 3px 1px rgba(0, 0, 0, 0.15);\n",
              "      filter: drop-shadow(0px 1px 2px rgba(0, 0, 0, 0.3));\n",
              "      fill: #FFFFFF;\n",
              "    }\n",
              "  </style>\n",
              "\n",
              "    <script>\n",
              "      const buttonEl =\n",
              "        document.querySelector('#df-10bab995-4767-44ba-bb38-7debcfef410b button.colab-df-convert');\n",
              "      buttonEl.style.display =\n",
              "        google.colab.kernel.accessAllowed ? 'block' : 'none';\n",
              "\n",
              "      async function convertToInteractive(key) {\n",
              "        const element = document.querySelector('#df-10bab995-4767-44ba-bb38-7debcfef410b');\n",
              "        const dataTable =\n",
              "          await google.colab.kernel.invokeFunction('convertToInteractive',\n",
              "                                                    [key], {});\n",
              "        if (!dataTable) return;\n",
              "\n",
              "        const docLinkHtml = 'Like what you see? Visit the ' +\n",
              "          '<a target=\"_blank\" href=https://colab.research.google.com/notebooks/data_table.ipynb>data table notebook</a>'\n",
              "          + ' to learn more about interactive tables.';\n",
              "        element.innerHTML = '';\n",
              "        dataTable['output_type'] = 'display_data';\n",
              "        await google.colab.output.renderOutput(dataTable, element);\n",
              "        const docLink = document.createElement('div');\n",
              "        docLink.innerHTML = docLinkHtml;\n",
              "        element.appendChild(docLink);\n",
              "      }\n",
              "    </script>\n",
              "  </div>\n",
              "\n",
              "\n",
              "<div id=\"df-a636f928-2e34-4442-917d-f8cfaa1d4ac2\">\n",
              "  <button class=\"colab-df-quickchart\" onclick=\"quickchart('df-a636f928-2e34-4442-917d-f8cfaa1d4ac2')\"\n",
              "            title=\"Suggest charts\"\n",
              "            style=\"display:none;\">\n",
              "\n",
              "<svg xmlns=\"http://www.w3.org/2000/svg\" height=\"24px\"viewBox=\"0 0 24 24\"\n",
              "     width=\"24px\">\n",
              "    <g>\n",
              "        <path d=\"M19 3H5c-1.1 0-2 .9-2 2v14c0 1.1.9 2 2 2h14c1.1 0 2-.9 2-2V5c0-1.1-.9-2-2-2zM9 17H7v-7h2v7zm4 0h-2V7h2v10zm4 0h-2v-4h2v4z\"/>\n",
              "    </g>\n",
              "</svg>\n",
              "  </button>\n",
              "\n",
              "<style>\n",
              "  .colab-df-quickchart {\n",
              "      --bg-color: #E8F0FE;\n",
              "      --fill-color: #1967D2;\n",
              "      --hover-bg-color: #E2EBFA;\n",
              "      --hover-fill-color: #174EA6;\n",
              "      --disabled-fill-color: #AAA;\n",
              "      --disabled-bg-color: #DDD;\n",
              "  }\n",
              "\n",
              "  [theme=dark] .colab-df-quickchart {\n",
              "      --bg-color: #3B4455;\n",
              "      --fill-color: #D2E3FC;\n",
              "      --hover-bg-color: #434B5C;\n",
              "      --hover-fill-color: #FFFFFF;\n",
              "      --disabled-bg-color: #3B4455;\n",
              "      --disabled-fill-color: #666;\n",
              "  }\n",
              "\n",
              "  .colab-df-quickchart {\n",
              "    background-color: var(--bg-color);\n",
              "    border: none;\n",
              "    border-radius: 50%;\n",
              "    cursor: pointer;\n",
              "    display: none;\n",
              "    fill: var(--fill-color);\n",
              "    height: 32px;\n",
              "    padding: 0;\n",
              "    width: 32px;\n",
              "  }\n",
              "\n",
              "  .colab-df-quickchart:hover {\n",
              "    background-color: var(--hover-bg-color);\n",
              "    box-shadow: 0 1px 2px rgba(60, 64, 67, 0.3), 0 1px 3px 1px rgba(60, 64, 67, 0.15);\n",
              "    fill: var(--button-hover-fill-color);\n",
              "  }\n",
              "\n",
              "  .colab-df-quickchart-complete:disabled,\n",
              "  .colab-df-quickchart-complete:disabled:hover {\n",
              "    background-color: var(--disabled-bg-color);\n",
              "    fill: var(--disabled-fill-color);\n",
              "    box-shadow: none;\n",
              "  }\n",
              "\n",
              "  .colab-df-spinner {\n",
              "    border: 2px solid var(--fill-color);\n",
              "    border-color: transparent;\n",
              "    border-bottom-color: var(--fill-color);\n",
              "    animation:\n",
              "      spin 1s steps(1) infinite;\n",
              "  }\n",
              "\n",
              "  @keyframes spin {\n",
              "    0% {\n",
              "      border-color: transparent;\n",
              "      border-bottom-color: var(--fill-color);\n",
              "      border-left-color: var(--fill-color);\n",
              "    }\n",
              "    20% {\n",
              "      border-color: transparent;\n",
              "      border-left-color: var(--fill-color);\n",
              "      border-top-color: var(--fill-color);\n",
              "    }\n",
              "    30% {\n",
              "      border-color: transparent;\n",
              "      border-left-color: var(--fill-color);\n",
              "      border-top-color: var(--fill-color);\n",
              "      border-right-color: var(--fill-color);\n",
              "    }\n",
              "    40% {\n",
              "      border-color: transparent;\n",
              "      border-right-color: var(--fill-color);\n",
              "      border-top-color: var(--fill-color);\n",
              "    }\n",
              "    60% {\n",
              "      border-color: transparent;\n",
              "      border-right-color: var(--fill-color);\n",
              "    }\n",
              "    80% {\n",
              "      border-color: transparent;\n",
              "      border-right-color: var(--fill-color);\n",
              "      border-bottom-color: var(--fill-color);\n",
              "    }\n",
              "    90% {\n",
              "      border-color: transparent;\n",
              "      border-bottom-color: var(--fill-color);\n",
              "    }\n",
              "  }\n",
              "</style>\n",
              "\n",
              "  <script>\n",
              "    async function quickchart(key) {\n",
              "      const quickchartButtonEl =\n",
              "        document.querySelector('#' + key + ' button');\n",
              "      quickchartButtonEl.disabled = true;  // To prevent multiple clicks.\n",
              "      quickchartButtonEl.classList.add('colab-df-spinner');\n",
              "      try {\n",
              "        const charts = await google.colab.kernel.invokeFunction(\n",
              "            'suggestCharts', [key], {});\n",
              "      } catch (error) {\n",
              "        console.error('Error during call to suggestCharts:', error);\n",
              "      }\n",
              "      quickchartButtonEl.classList.remove('colab-df-spinner');\n",
              "      quickchartButtonEl.classList.add('colab-df-quickchart-complete');\n",
              "    }\n",
              "    (() => {\n",
              "      let quickchartButtonEl =\n",
              "        document.querySelector('#df-a636f928-2e34-4442-917d-f8cfaa1d4ac2 button');\n",
              "      quickchartButtonEl.style.display =\n",
              "        google.colab.kernel.accessAllowed ? 'block' : 'none';\n",
              "    })();\n",
              "  </script>\n",
              "</div>\n",
              "    </div>\n",
              "  </div>\n"
            ],
            "application/vnd.google.colaboratory.intrinsic+json": {
              "type": "dataframe",
              "variable_name": "df",
              "summary": "{\n  \"name\": \"df\",\n  \"rows\": 3557,\n  \"fields\": [\n    {\n      \"column\": \"Iso\",\n      \"properties\": {\n        \"dtype\": \"string\",\n        \"num_unique_values\": 3557,\n        \"samples\": [\n          \"atomic_number=   94, mass_number=  230, mass=230.03965(2), abundance=None      \",\n          \"atomic_number=   12, mass_number=   37, mass=37.0303(8), abundance=None      \",\n          \"atomic_number=  103, mass_number=  259, mass=259.10290(8), abundance=None      \"\n        ],\n        \"semantic_type\": \"\",\n        \"description\": \"\"\n      }\n    },\n    {\n      \"column\": \"Z\",\n      \"properties\": {\n        \"dtype\": \"number\",\n        \"std\": 28,\n        \"min\": 1,\n        \"max\": 118,\n        \"num_unique_values\": 118,\n        \"samples\": [\n          57,\n          90,\n          5\n        ],\n        \"semantic_type\": \"\",\n        \"description\": \"\"\n      }\n    },\n    {\n      \"column\": \"A\",\n      \"properties\": {\n        \"dtype\": \"number\",\n        \"std\": 71,\n        \"min\": 1,\n        \"max\": 295,\n        \"num_unique_values\": 295,\n        \"samples\": [\n          274,\n          156,\n          85\n        ],\n        \"semantic_type\": \"\",\n        \"description\": \"\"\n      }\n    },\n    {\n      \"column\": \"N\",\n      \"properties\": {\n        \"dtype\": \"number\",\n        \"std\": 43,\n        \"min\": 0,\n        \"max\": 177,\n        \"num_unique_values\": 178,\n        \"samples\": [\n          19,\n          45,\n          140\n        ],\n        \"semantic_type\": \"\",\n        \"description\": \"\"\n      }\n    },\n    {\n      \"column\": \"mass\",\n      \"properties\": {\n        \"dtype\": \"number\",\n        \"std\": 71.1964663317357,\n        \"min\": 1.007825031898,\n        \"max\": 295.216178,\n        \"num_unique_values\": 3557,\n        \"samples\": [\n          230.039648313,\n          37.030286265,\n          259.1029\n        ],\n        \"semantic_type\": \"\",\n        \"description\": \"\"\n      }\n    }\n  ]\n}"
            }
          },
          "metadata": {},
          "execution_count": 47
        }
      ]
    },
    {
      "cell_type": "markdown",
      "source": [
        "## Удельная энергия связи"
      ],
      "metadata": {
        "id": "Ge_7RYd48_-L"
      }
    },
    {
      "cell_type": "markdown",
      "source": [
        "Требуется построить график удельной энергии связи ядра, приходящейся на один нуклон, в зависимости от числа нуклонов в ядре.  Единицы энергии, используемые на графике - МэВ"
      ],
      "metadata": {
        "id": "3arfyI-R_nch"
      }
    },
    {
      "cell_type": "markdown",
      "source": [
        "$E_{уд\\ св} = \\dfrac{E_{св}}{A}$, где  \n",
        "$A$ - количество нуклонов (протоны + нейроны), a.k.a. массовое число\n",
        "\n",
        "$E_{св} = \\Delta m * c^2$, где  \n",
        "- $\\Delta m$ - деффект массы,  \n",
        "- $c$ - скорость света.  \n",
        "\n",
        "$\\Delta m = \\sum_{i} N_i * m_i$, где  \n",
        " - $N_i$ - количество,\n",
        " - $m_i$ - масса, $i \\in {n,p}$."
      ],
      "metadata": {
        "id": "RQmrIEfR9Onz"
      }
    },
    {
      "cell_type": "code",
      "source": [
        "def from_aem_to_kg(aems):\n",
        "  'Перевод массы из а.е.м. в кг'\n",
        "  return aems * 1.6605 * 10**(-27)\n",
        "\n",
        "neutron_mass = 1.6749  * 10**(-27) # кг\n",
        "proton_mass =  1.6726  * 10**(-27) # кг\n",
        "c = 3 * 10**8 # м/c\n",
        "\n",
        "def J_to_MeV(en):\n",
        "  'Перевод энергии из джоулей в МэВ'\n",
        "  return en / (1.602176634 *10**(-19)) / 10**6"
      ],
      "metadata": {
        "id": "1skFM3j-AWU-"
      },
      "execution_count": 48,
      "outputs": []
    },
    {
      "cell_type": "code",
      "source": [
        "df['del_m'] = df['Z'] * proton_mass + (df['A'] - df['Z']) * neutron_mass - from_aem_to_kg(df['mass'])\n",
        "df['Ecv']=J_to_MeV(df['del_m']*c*c)\n",
        "df['Eud']=df['Ecv']/df['A']\n",
        "df\n",
        "\n"
      ],
      "metadata": {
        "id": "3IF-EC89HI2V",
        "colab": {
          "base_uri": "https://localhost:8080/",
          "height": 423
        },
        "outputId": "732f0c1e-df18-4773-cc1e-799cf2ecf5ec"
      },
      "execution_count": 49,
      "outputs": [
        {
          "output_type": "execute_result",
          "data": {
            "text/plain": [
              "                                                    Iso    Z    A    N  \\\n",
              "0     atomic_number=    1, mass_number=    1, mass=1...    1    1    0   \n",
              "1     atomic_number=    1, mass_number=    2, mass=2...    1    2    1   \n",
              "2     atomic_number=    1, mass_number=    3, mass=3...    1    3    2   \n",
              "3     atomic_number=    1, mass_number=    4, mass=4...    1    4    3   \n",
              "4     atomic_number=    1, mass_number=    5, mass=5...    1    5    4   \n",
              "...                                                 ...  ...  ...  ...   \n",
              "3552  atomic_number=  117, mass_number=  293, mass=2...  117  293  176   \n",
              "3553  atomic_number=  117, mass_number=  294, mass=2...  117  294  177   \n",
              "3554  atomic_number=  118, mass_number=  293, mass=2...  118  293  175   \n",
              "3555  atomic_number=  118, mass_number=  294, mass=2...  118  294  176   \n",
              "3556  atomic_number=  118, mass_number=  295, mass=2...  118  295  177   \n",
              "\n",
              "            mass         del_m          Ecv       Eud  \n",
              "0       1.007825 -8.934655e-31    -0.501892 -0.501892  \n",
              "1       2.014102  3.083998e-30     1.732392  0.866196  \n",
              "2       3.016049  1.425017e-29     8.004830  2.668277  \n",
              "3       4.026432  1.140988e-29     6.409341  1.602335  \n",
              "4       5.035311  1.106527e-29     6.215757  1.243151  \n",
              "...          ...           ...          ...       ...  \n",
              "3552  293.208727  3.603509e-27  2024.219968  6.908601  \n",
              "3553  294.210840  3.614400e-27  2030.338037  6.905912  \n",
              "3554  293.213423  3.593411e-27  2018.547724  6.889241  \n",
              "3555  294.213979  3.606888e-27  2026.118104  6.891558  \n",
              "3556  295.216178  3.617636e-27  2032.155955  6.888664  \n",
              "\n",
              "[3557 rows x 8 columns]"
            ],
            "text/html": [
              "\n",
              "  <div id=\"df-184365a9-dfa8-4852-85a0-acc7475334a6\" class=\"colab-df-container\">\n",
              "    <div>\n",
              "<style scoped>\n",
              "    .dataframe tbody tr th:only-of-type {\n",
              "        vertical-align: middle;\n",
              "    }\n",
              "\n",
              "    .dataframe tbody tr th {\n",
              "        vertical-align: top;\n",
              "    }\n",
              "\n",
              "    .dataframe thead th {\n",
              "        text-align: right;\n",
              "    }\n",
              "</style>\n",
              "<table border=\"1\" class=\"dataframe\">\n",
              "  <thead>\n",
              "    <tr style=\"text-align: right;\">\n",
              "      <th></th>\n",
              "      <th>Iso</th>\n",
              "      <th>Z</th>\n",
              "      <th>A</th>\n",
              "      <th>N</th>\n",
              "      <th>mass</th>\n",
              "      <th>del_m</th>\n",
              "      <th>Ecv</th>\n",
              "      <th>Eud</th>\n",
              "    </tr>\n",
              "  </thead>\n",
              "  <tbody>\n",
              "    <tr>\n",
              "      <th>0</th>\n",
              "      <td>atomic_number=    1, mass_number=    1, mass=1...</td>\n",
              "      <td>1</td>\n",
              "      <td>1</td>\n",
              "      <td>0</td>\n",
              "      <td>1.007825</td>\n",
              "      <td>-8.934655e-31</td>\n",
              "      <td>-0.501892</td>\n",
              "      <td>-0.501892</td>\n",
              "    </tr>\n",
              "    <tr>\n",
              "      <th>1</th>\n",
              "      <td>atomic_number=    1, mass_number=    2, mass=2...</td>\n",
              "      <td>1</td>\n",
              "      <td>2</td>\n",
              "      <td>1</td>\n",
              "      <td>2.014102</td>\n",
              "      <td>3.083998e-30</td>\n",
              "      <td>1.732392</td>\n",
              "      <td>0.866196</td>\n",
              "    </tr>\n",
              "    <tr>\n",
              "      <th>2</th>\n",
              "      <td>atomic_number=    1, mass_number=    3, mass=3...</td>\n",
              "      <td>1</td>\n",
              "      <td>3</td>\n",
              "      <td>2</td>\n",
              "      <td>3.016049</td>\n",
              "      <td>1.425017e-29</td>\n",
              "      <td>8.004830</td>\n",
              "      <td>2.668277</td>\n",
              "    </tr>\n",
              "    <tr>\n",
              "      <th>3</th>\n",
              "      <td>atomic_number=    1, mass_number=    4, mass=4...</td>\n",
              "      <td>1</td>\n",
              "      <td>4</td>\n",
              "      <td>3</td>\n",
              "      <td>4.026432</td>\n",
              "      <td>1.140988e-29</td>\n",
              "      <td>6.409341</td>\n",
              "      <td>1.602335</td>\n",
              "    </tr>\n",
              "    <tr>\n",
              "      <th>4</th>\n",
              "      <td>atomic_number=    1, mass_number=    5, mass=5...</td>\n",
              "      <td>1</td>\n",
              "      <td>5</td>\n",
              "      <td>4</td>\n",
              "      <td>5.035311</td>\n",
              "      <td>1.106527e-29</td>\n",
              "      <td>6.215757</td>\n",
              "      <td>1.243151</td>\n",
              "    </tr>\n",
              "    <tr>\n",
              "      <th>...</th>\n",
              "      <td>...</td>\n",
              "      <td>...</td>\n",
              "      <td>...</td>\n",
              "      <td>...</td>\n",
              "      <td>...</td>\n",
              "      <td>...</td>\n",
              "      <td>...</td>\n",
              "      <td>...</td>\n",
              "    </tr>\n",
              "    <tr>\n",
              "      <th>3552</th>\n",
              "      <td>atomic_number=  117, mass_number=  293, mass=2...</td>\n",
              "      <td>117</td>\n",
              "      <td>293</td>\n",
              "      <td>176</td>\n",
              "      <td>293.208727</td>\n",
              "      <td>3.603509e-27</td>\n",
              "      <td>2024.219968</td>\n",
              "      <td>6.908601</td>\n",
              "    </tr>\n",
              "    <tr>\n",
              "      <th>3553</th>\n",
              "      <td>atomic_number=  117, mass_number=  294, mass=2...</td>\n",
              "      <td>117</td>\n",
              "      <td>294</td>\n",
              "      <td>177</td>\n",
              "      <td>294.210840</td>\n",
              "      <td>3.614400e-27</td>\n",
              "      <td>2030.338037</td>\n",
              "      <td>6.905912</td>\n",
              "    </tr>\n",
              "    <tr>\n",
              "      <th>3554</th>\n",
              "      <td>atomic_number=  118, mass_number=  293, mass=2...</td>\n",
              "      <td>118</td>\n",
              "      <td>293</td>\n",
              "      <td>175</td>\n",
              "      <td>293.213423</td>\n",
              "      <td>3.593411e-27</td>\n",
              "      <td>2018.547724</td>\n",
              "      <td>6.889241</td>\n",
              "    </tr>\n",
              "    <tr>\n",
              "      <th>3555</th>\n",
              "      <td>atomic_number=  118, mass_number=  294, mass=2...</td>\n",
              "      <td>118</td>\n",
              "      <td>294</td>\n",
              "      <td>176</td>\n",
              "      <td>294.213979</td>\n",
              "      <td>3.606888e-27</td>\n",
              "      <td>2026.118104</td>\n",
              "      <td>6.891558</td>\n",
              "    </tr>\n",
              "    <tr>\n",
              "      <th>3556</th>\n",
              "      <td>atomic_number=  118, mass_number=  295, mass=2...</td>\n",
              "      <td>118</td>\n",
              "      <td>295</td>\n",
              "      <td>177</td>\n",
              "      <td>295.216178</td>\n",
              "      <td>3.617636e-27</td>\n",
              "      <td>2032.155955</td>\n",
              "      <td>6.888664</td>\n",
              "    </tr>\n",
              "  </tbody>\n",
              "</table>\n",
              "<p>3557 rows × 8 columns</p>\n",
              "</div>\n",
              "    <div class=\"colab-df-buttons\">\n",
              "\n",
              "  <div class=\"colab-df-container\">\n",
              "    <button class=\"colab-df-convert\" onclick=\"convertToInteractive('df-184365a9-dfa8-4852-85a0-acc7475334a6')\"\n",
              "            title=\"Convert this dataframe to an interactive table.\"\n",
              "            style=\"display:none;\">\n",
              "\n",
              "  <svg xmlns=\"http://www.w3.org/2000/svg\" height=\"24px\" viewBox=\"0 -960 960 960\">\n",
              "    <path d=\"M120-120v-720h720v720H120Zm60-500h600v-160H180v160Zm220 220h160v-160H400v160Zm0 220h160v-160H400v160ZM180-400h160v-160H180v160Zm440 0h160v-160H620v160ZM180-180h160v-160H180v160Zm440 0h160v-160H620v160Z\"/>\n",
              "  </svg>\n",
              "    </button>\n",
              "\n",
              "  <style>\n",
              "    .colab-df-container {\n",
              "      display:flex;\n",
              "      gap: 12px;\n",
              "    }\n",
              "\n",
              "    .colab-df-convert {\n",
              "      background-color: #E8F0FE;\n",
              "      border: none;\n",
              "      border-radius: 50%;\n",
              "      cursor: pointer;\n",
              "      display: none;\n",
              "      fill: #1967D2;\n",
              "      height: 32px;\n",
              "      padding: 0 0 0 0;\n",
              "      width: 32px;\n",
              "    }\n",
              "\n",
              "    .colab-df-convert:hover {\n",
              "      background-color: #E2EBFA;\n",
              "      box-shadow: 0px 1px 2px rgba(60, 64, 67, 0.3), 0px 1px 3px 1px rgba(60, 64, 67, 0.15);\n",
              "      fill: #174EA6;\n",
              "    }\n",
              "\n",
              "    .colab-df-buttons div {\n",
              "      margin-bottom: 4px;\n",
              "    }\n",
              "\n",
              "    [theme=dark] .colab-df-convert {\n",
              "      background-color: #3B4455;\n",
              "      fill: #D2E3FC;\n",
              "    }\n",
              "\n",
              "    [theme=dark] .colab-df-convert:hover {\n",
              "      background-color: #434B5C;\n",
              "      box-shadow: 0px 1px 3px 1px rgba(0, 0, 0, 0.15);\n",
              "      filter: drop-shadow(0px 1px 2px rgba(0, 0, 0, 0.3));\n",
              "      fill: #FFFFFF;\n",
              "    }\n",
              "  </style>\n",
              "\n",
              "    <script>\n",
              "      const buttonEl =\n",
              "        document.querySelector('#df-184365a9-dfa8-4852-85a0-acc7475334a6 button.colab-df-convert');\n",
              "      buttonEl.style.display =\n",
              "        google.colab.kernel.accessAllowed ? 'block' : 'none';\n",
              "\n",
              "      async function convertToInteractive(key) {\n",
              "        const element = document.querySelector('#df-184365a9-dfa8-4852-85a0-acc7475334a6');\n",
              "        const dataTable =\n",
              "          await google.colab.kernel.invokeFunction('convertToInteractive',\n",
              "                                                    [key], {});\n",
              "        if (!dataTable) return;\n",
              "\n",
              "        const docLinkHtml = 'Like what you see? Visit the ' +\n",
              "          '<a target=\"_blank\" href=https://colab.research.google.com/notebooks/data_table.ipynb>data table notebook</a>'\n",
              "          + ' to learn more about interactive tables.';\n",
              "        element.innerHTML = '';\n",
              "        dataTable['output_type'] = 'display_data';\n",
              "        await google.colab.output.renderOutput(dataTable, element);\n",
              "        const docLink = document.createElement('div');\n",
              "        docLink.innerHTML = docLinkHtml;\n",
              "        element.appendChild(docLink);\n",
              "      }\n",
              "    </script>\n",
              "  </div>\n",
              "\n",
              "\n",
              "<div id=\"df-0e89b64f-3f2a-45ed-8eec-6464700699ac\">\n",
              "  <button class=\"colab-df-quickchart\" onclick=\"quickchart('df-0e89b64f-3f2a-45ed-8eec-6464700699ac')\"\n",
              "            title=\"Suggest charts\"\n",
              "            style=\"display:none;\">\n",
              "\n",
              "<svg xmlns=\"http://www.w3.org/2000/svg\" height=\"24px\"viewBox=\"0 0 24 24\"\n",
              "     width=\"24px\">\n",
              "    <g>\n",
              "        <path d=\"M19 3H5c-1.1 0-2 .9-2 2v14c0 1.1.9 2 2 2h14c1.1 0 2-.9 2-2V5c0-1.1-.9-2-2-2zM9 17H7v-7h2v7zm4 0h-2V7h2v10zm4 0h-2v-4h2v4z\"/>\n",
              "    </g>\n",
              "</svg>\n",
              "  </button>\n",
              "\n",
              "<style>\n",
              "  .colab-df-quickchart {\n",
              "      --bg-color: #E8F0FE;\n",
              "      --fill-color: #1967D2;\n",
              "      --hover-bg-color: #E2EBFA;\n",
              "      --hover-fill-color: #174EA6;\n",
              "      --disabled-fill-color: #AAA;\n",
              "      --disabled-bg-color: #DDD;\n",
              "  }\n",
              "\n",
              "  [theme=dark] .colab-df-quickchart {\n",
              "      --bg-color: #3B4455;\n",
              "      --fill-color: #D2E3FC;\n",
              "      --hover-bg-color: #434B5C;\n",
              "      --hover-fill-color: #FFFFFF;\n",
              "      --disabled-bg-color: #3B4455;\n",
              "      --disabled-fill-color: #666;\n",
              "  }\n",
              "\n",
              "  .colab-df-quickchart {\n",
              "    background-color: var(--bg-color);\n",
              "    border: none;\n",
              "    border-radius: 50%;\n",
              "    cursor: pointer;\n",
              "    display: none;\n",
              "    fill: var(--fill-color);\n",
              "    height: 32px;\n",
              "    padding: 0;\n",
              "    width: 32px;\n",
              "  }\n",
              "\n",
              "  .colab-df-quickchart:hover {\n",
              "    background-color: var(--hover-bg-color);\n",
              "    box-shadow: 0 1px 2px rgba(60, 64, 67, 0.3), 0 1px 3px 1px rgba(60, 64, 67, 0.15);\n",
              "    fill: var(--button-hover-fill-color);\n",
              "  }\n",
              "\n",
              "  .colab-df-quickchart-complete:disabled,\n",
              "  .colab-df-quickchart-complete:disabled:hover {\n",
              "    background-color: var(--disabled-bg-color);\n",
              "    fill: var(--disabled-fill-color);\n",
              "    box-shadow: none;\n",
              "  }\n",
              "\n",
              "  .colab-df-spinner {\n",
              "    border: 2px solid var(--fill-color);\n",
              "    border-color: transparent;\n",
              "    border-bottom-color: var(--fill-color);\n",
              "    animation:\n",
              "      spin 1s steps(1) infinite;\n",
              "  }\n",
              "\n",
              "  @keyframes spin {\n",
              "    0% {\n",
              "      border-color: transparent;\n",
              "      border-bottom-color: var(--fill-color);\n",
              "      border-left-color: var(--fill-color);\n",
              "    }\n",
              "    20% {\n",
              "      border-color: transparent;\n",
              "      border-left-color: var(--fill-color);\n",
              "      border-top-color: var(--fill-color);\n",
              "    }\n",
              "    30% {\n",
              "      border-color: transparent;\n",
              "      border-left-color: var(--fill-color);\n",
              "      border-top-color: var(--fill-color);\n",
              "      border-right-color: var(--fill-color);\n",
              "    }\n",
              "    40% {\n",
              "      border-color: transparent;\n",
              "      border-right-color: var(--fill-color);\n",
              "      border-top-color: var(--fill-color);\n",
              "    }\n",
              "    60% {\n",
              "      border-color: transparent;\n",
              "      border-right-color: var(--fill-color);\n",
              "    }\n",
              "    80% {\n",
              "      border-color: transparent;\n",
              "      border-right-color: var(--fill-color);\n",
              "      border-bottom-color: var(--fill-color);\n",
              "    }\n",
              "    90% {\n",
              "      border-color: transparent;\n",
              "      border-bottom-color: var(--fill-color);\n",
              "    }\n",
              "  }\n",
              "</style>\n",
              "\n",
              "  <script>\n",
              "    async function quickchart(key) {\n",
              "      const quickchartButtonEl =\n",
              "        document.querySelector('#' + key + ' button');\n",
              "      quickchartButtonEl.disabled = true;  // To prevent multiple clicks.\n",
              "      quickchartButtonEl.classList.add('colab-df-spinner');\n",
              "      try {\n",
              "        const charts = await google.colab.kernel.invokeFunction(\n",
              "            'suggestCharts', [key], {});\n",
              "      } catch (error) {\n",
              "        console.error('Error during call to suggestCharts:', error);\n",
              "      }\n",
              "      quickchartButtonEl.classList.remove('colab-df-spinner');\n",
              "      quickchartButtonEl.classList.add('colab-df-quickchart-complete');\n",
              "    }\n",
              "    (() => {\n",
              "      let quickchartButtonEl =\n",
              "        document.querySelector('#df-0e89b64f-3f2a-45ed-8eec-6464700699ac button');\n",
              "      quickchartButtonEl.style.display =\n",
              "        google.colab.kernel.accessAllowed ? 'block' : 'none';\n",
              "    })();\n",
              "  </script>\n",
              "</div>\n",
              "    </div>\n",
              "  </div>\n"
            ],
            "application/vnd.google.colaboratory.intrinsic+json": {
              "type": "dataframe",
              "variable_name": "df",
              "summary": "{\n  \"name\": \"df\",\n  \"rows\": 3557,\n  \"fields\": [\n    {\n      \"column\": \"Iso\",\n      \"properties\": {\n        \"dtype\": \"string\",\n        \"num_unique_values\": 3557,\n        \"samples\": [\n          \"atomic_number=   94, mass_number=  230, mass=230.03965(2), abundance=None      \",\n          \"atomic_number=   12, mass_number=   37, mass=37.0303(8), abundance=None      \",\n          \"atomic_number=  103, mass_number=  259, mass=259.10290(8), abundance=None      \"\n        ],\n        \"semantic_type\": \"\",\n        \"description\": \"\"\n      }\n    },\n    {\n      \"column\": \"Z\",\n      \"properties\": {\n        \"dtype\": \"number\",\n        \"std\": 28,\n        \"min\": 1,\n        \"max\": 118,\n        \"num_unique_values\": 118,\n        \"samples\": [\n          57,\n          90,\n          5\n        ],\n        \"semantic_type\": \"\",\n        \"description\": \"\"\n      }\n    },\n    {\n      \"column\": \"A\",\n      \"properties\": {\n        \"dtype\": \"number\",\n        \"std\": 71,\n        \"min\": 1,\n        \"max\": 295,\n        \"num_unique_values\": 295,\n        \"samples\": [\n          274,\n          156,\n          85\n        ],\n        \"semantic_type\": \"\",\n        \"description\": \"\"\n      }\n    },\n    {\n      \"column\": \"N\",\n      \"properties\": {\n        \"dtype\": \"number\",\n        \"std\": 43,\n        \"min\": 0,\n        \"max\": 177,\n        \"num_unique_values\": 178,\n        \"samples\": [\n          19,\n          45,\n          140\n        ],\n        \"semantic_type\": \"\",\n        \"description\": \"\"\n      }\n    },\n    {\n      \"column\": \"mass\",\n      \"properties\": {\n        \"dtype\": \"number\",\n        \"std\": 71.1964663317357,\n        \"min\": 1.007825031898,\n        \"max\": 295.216178,\n        \"num_unique_values\": 3557,\n        \"samples\": [\n          230.039648313,\n          37.030286265,\n          259.1029\n        ],\n        \"semantic_type\": \"\",\n        \"description\": \"\"\n      }\n    },\n    {\n      \"column\": \"del_m\",\n      \"properties\": {\n        \"dtype\": \"number\",\n        \"std\": 9.107728435630842e-28,\n        \"min\": -1.4801887500000742e-29,\n        \"max\": 3.6176364309999926e-27,\n        \"num_unique_values\": 3557,\n        \"samples\": [\n          3.029963976263509e-27,\n          4.549096569674905e-28,\n          3.32183455000009e-27\n        ],\n        \"semantic_type\": \"\",\n        \"description\": \"\"\n      }\n    },\n    {\n      \"column\": \"Ecv\",\n      \"properties\": {\n        \"dtype\": \"number\",\n        \"std\": 511.61372710842903,\n        \"min\": -8.314750363536177,\n        \"max\": 2032.1559550967668,\n        \"num_unique_values\": 3557,\n        \"samples\": [\n          1702.0392887824116,\n          255.53904768201815,\n          1865.9934438914563\n        ],\n        \"semantic_type\": \"\",\n        \"description\": \"\"\n      }\n    },\n    {\n      \"column\": \"Eud\",\n      \"properties\": {\n        \"dtype\": \"number\",\n        \"std\": 0.731000993896903,\n        \"min\": -2.7715834545120592,\n        \"max\": 8.583536536253181,\n        \"num_unique_values\": 3557,\n        \"samples\": [\n          7.400170820793094,\n          6.906460748162653,\n          7.204607891472804\n        ],\n        \"semantic_type\": \"\",\n        \"description\": \"\"\n      }\n    }\n  ]\n}"
            }
          },
          "metadata": {},
          "execution_count": 49
        }
      ]
    },
    {
      "cell_type": "markdown",
      "source": [
        "### Построение графика\n",
        "Тип графика - диаграмма рассеяния.  График должен иметь\n",
        "- грамотно подписанные оси,\n",
        "- достаточно маленькую цену деления,\n",
        "- визуально оптимальный размер отметки,\n",
        "- разметку (сетку)."
      ],
      "metadata": {
        "id": "kdUL34XsBNIk"
      }
    },
    {
      "cell_type": "markdown",
      "source": [
        "#### Теор. справка. df $\\rightarrow$ ndarray\n",
        "Извлечение массива значений из колонки датафрейма"
      ],
      "metadata": {
        "id": "iYWsGlYlDKGv"
      }
    },
    {
      "cell_type": "code",
      "source": [
        "my_df = pd.DataFrame(np.array([1,2,3]), columns=[['my_col']])\n",
        "my_col_values = my_df['my_col'].values\n",
        "print(f'Извлечены данные: {my_col_values}, тип - {type(my_col_values)}')"
      ],
      "metadata": {
        "colab": {
          "base_uri": "https://localhost:8080/"
        },
        "id": "YkCjiS0AAzob",
        "outputId": "726d863d-2733-4606-ce86-4ac380aed901"
      },
      "execution_count": 50,
      "outputs": [
        {
          "output_type": "stream",
          "name": "stdout",
          "text": [
            "Извлечены данные: [[1]\n",
            " [2]\n",
            " [3]], тип - <class 'numpy.ndarray'>\n"
          ]
        }
      ]
    },
    {
      "cell_type": "code",
      "source": [
        "my_col_values = my_col_values.reshape(-1)\n",
        "my_col_values.shape"
      ],
      "metadata": {
        "colab": {
          "base_uri": "https://localhost:8080/"
        },
        "id": "vaMtyqmKDFf4",
        "outputId": "9f1d2be6-6f25-47ec-c5e2-ce7c4accb42e"
      },
      "execution_count": 51,
      "outputs": [
        {
          "output_type": "execute_result",
          "data": {
            "text/plain": [
              "(3,)"
            ]
          },
          "metadata": {},
          "execution_count": 51
        }
      ]
    },
    {
      "cell_type": "code",
      "source": [
        "df_Eud=df['Eud'].to_numpy()\n",
        "df_A=df['A'].to_numpy()"
      ],
      "metadata": {
        "id": "gHwMqbRiDInv"
      },
      "execution_count": 52,
      "outputs": []
    },
    {
      "cell_type": "markdown",
      "source": [
        "#### Теор. справка. Слайсы\n",
        "Если при соблюдении всех указанных выше правил отметки все равно сливаются (именно так у вас и должно получиться), необходимо привести на графике точки с некоторым фиксированным шагом по массиву значений. Воспользуйтесь numpy-слайсами, см. пример ниже.\n"
      ],
      "metadata": {
        "id": "zUYODw6BFNtS"
      }
    },
    {
      "cell_type": "code",
      "source": [
        "big_arr = np.arange(100)\n",
        "print('Исходный', big_arr, sep='\\t')\n",
        "sparse_arr = big_arr[::10]\n",
        "print('Разреженный', sparse_arr, sep='\\t')"
      ],
      "metadata": {
        "colab": {
          "base_uri": "https://localhost:8080/"
        },
        "id": "wajiYblBE2E1",
        "outputId": "dfffe42d-d504-4667-d8f0-37282267a938"
      },
      "execution_count": 53,
      "outputs": [
        {
          "output_type": "stream",
          "name": "stdout",
          "text": [
            "Исходный\t[ 0  1  2  3  4  5  6  7  8  9 10 11 12 13 14 15 16 17 18 19 20 21 22 23\n",
            " 24 25 26 27 28 29 30 31 32 33 34 35 36 37 38 39 40 41 42 43 44 45 46 47\n",
            " 48 49 50 51 52 53 54 55 56 57 58 59 60 61 62 63 64 65 66 67 68 69 70 71\n",
            " 72 73 74 75 76 77 78 79 80 81 82 83 84 85 86 87 88 89 90 91 92 93 94 95\n",
            " 96 97 98 99]\n",
            "Разреженный\t[ 0 10 20 30 40 50 60 70 80 90]\n"
          ]
        }
      ]
    },
    {
      "cell_type": "code",
      "source": [
        "df_Eud=df_Eud[::10]\n",
        "df_A=df_A[::10]"
      ],
      "metadata": {
        "id": "i1Myddxawtfy"
      },
      "execution_count": 54,
      "outputs": []
    },
    {
      "cell_type": "markdown",
      "source": [
        "#### <ГРАФИК>\n",
        "\n"
      ],
      "metadata": {
        "id": "ovIxSpkEHYcL"
      }
    },
    {
      "cell_type": "code",
      "source": [
        "fig, ax = plt.subplots(figsize=(5,5))\n",
        "ax.scatter(df_A,df_Eud, s=6, c=df_A)\n",
        "ax.set_xlabel('число нуклонов')\n",
        "ax.set_ylabel('удельная энергия')\n",
        "ax.set_xticks(np.arange(0, 300, 5), minor=True)\n",
        "ax.set_yticks(np.arange(0, 10, 5), minor=True)\n",
        "ax.set_title('График удельной энергии связи ядра, приходящейся на один нуклон, в зависимости от числа нуклонов в ядре')\n",
        "ax.grid(True, 'both', 'both')\n",
        "\n",
        "None"
      ],
      "metadata": {
        "id": "uMY3EVf5FJG7",
        "colab": {
          "base_uri": "https://localhost:8080/",
          "height": 487
        },
        "outputId": "d1ab73f3-c4a3-4b6d-aa3b-580a75ee6a08"
      },
      "execution_count": 55,
      "outputs": [
        {
          "output_type": "display_data",
          "data": {
            "text/plain": [
              "<Figure size 500x500 with 1 Axes>"
            ],
            "image/png": "[encoded data removed]"
          },
          "metadata": {}
        }
      ]
    },
    {
      "cell_type": "code",
      "source": [
        "print(\"\\nСтолбцы isotopes:\")\n",
        "print(df.columns)"
      ],
      "metadata": {
        "colab": {
          "base_uri": "https://localhost:8080/"
        },
        "id": "kOlsq0Yw5sai",
        "outputId": "2d8e0779-06cf-4e63-d1bd-4f7897ac55d6"
      },
      "execution_count": 56,
      "outputs": [
        {
          "output_type": "stream",
          "name": "stdout",
          "text": [
            "\n",
            "Столбцы isotopes:\n",
            "Index(['Iso', 'Z', 'A', 'N', 'mass', 'del_m', 'Ecv', 'Eud'], dtype='object')\n"
          ]
        }
      ]
    },
    {
      "cell_type": "code",
      "source": [
        "df.to_pickle('isotope_params.pkl')"
      ],
      "metadata": {
        "id": "ikLdsLOO4LZh"
      },
      "execution_count": 57,
      "outputs": []
    },
    {
      "cell_type": "markdown",
      "source": [
        "## Выводы  \n",
        "В данной лабораторной работе мы потренировались в работе с фреймворком пандас,\n",
        "построили график удельной энергии связи ядра, приходящейся на один нуклон, в зависимости от числа нуклонов в ядре.\n",
        "По полученному графику видно, что при увеличении атомного номера удельная энергия увеличивается до того момента, когда число нуклонов примерно равно 75, а затем наблюдается плавный спад удельной энергии.\n",
        "Наибольшей энергией обладают элементы, имеющие число нуклонов примерно в диапазоне от 50 до 100.\n"
      ],
      "metadata": {
        "id": "oihdxlndGDn8"
      }
    }
  ]
}