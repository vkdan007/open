{
  "nbformat": 4,
  "nbformat_minor": 0,
  "metadata": {
    "colab": {
      "provenance": [],
      "include_colab_link": true
    },
    "kernelspec": {
      "name": "python3",
      "display_name": "Python 3"
    },
    "language_info": {
      "name": "python"
    }
  },
  "cells": [
    {
      "cell_type": "markdown",
      "metadata": {
        "id": "view-in-github",
        "colab_type": "text"
      },
      "source": [
        "<a href=\"https://colab.research.google.com/github/vkdan007/open/blob/main/%D0%9A%D0%BE%D0%BF%D0%B8%D1%8F_%D0%B1%D0%BB%D0%BE%D0%BA%D0%BD%D0%BE%D1%82%D0%B0_%22MMPhP_b22_01_ipynb%22.ipynb\" target=\"_parent\"><img src=\"https://colab.research.google.com/assets/colab-badge.svg\" alt=\"Open In Colab\"/></a>"
      ]
    },
    {
      "cell_type": "markdown",
      "source": [
        "# Знакомство с Юпитер ноутбуком"
      ],
      "metadata": {
        "id": "wSj92zB62GOE"
      }
    },
    {
      "cell_type": "code",
      "execution_count": null,
      "metadata": {
        "colab": {
          "base_uri": "https://localhost:8080/"
        },
        "id": "bJPeVC9r0DKv",
        "outputId": "6f74430b-925d-4ce7-def7-315e65d9dd99"
      },
      "outputs": [
        {
          "output_type": "stream",
          "name": "stdout",
          "text": [
            "Hello, World!\n"
          ]
        }
      ],
      "source": [
        "print('Hello, World!')"
      ]
    },
    {
      "cell_type": "markdown",
      "source": [
        "Это текст.  \n",
        "Это новый текст."
      ],
      "metadata": {
        "id": "VdOFgpIh0cYo"
      }
    },
    {
      "cell_type": "code",
      "source": [
        "import numpy as np"
      ],
      "metadata": {
        "id": "vGRO2KjF05Dy"
      },
      "execution_count": null,
      "outputs": []
    },
    {
      "cell_type": "code",
      "source": [
        "a = 10"
      ],
      "metadata": {
        "id": "fKFXdcYK0YIL"
      },
      "execution_count": null,
      "outputs": []
    },
    {
      "cell_type": "code",
      "source": [
        "?np.ceil"
      ],
      "metadata": {
        "id": "ez3EB_Z403kB"
      },
      "execution_count": null,
      "outputs": []
    },
    {
      "cell_type": "code",
      "source": [
        "!ls"
      ],
      "metadata": {
        "colab": {
          "base_uri": "https://localhost:8080/"
        },
        "id": "85RgGdKV1c42",
        "outputId": "4f5e6d97-fb8b-4900-8164-3fb89bf5541f"
      },
      "execution_count": null,
      "outputs": [
        {
          "output_type": "stream",
          "name": "stdout",
          "text": [
            "sample_data\n"
          ]
        }
      ]
    },
    {
      "cell_type": "code",
      "source": [
        "!pip install mendeleev"
      ],
      "metadata": {
        "colab": {
          "base_uri": "https://localhost:8080/"
        },
        "id": "VxSLeI6O1wNm",
        "outputId": "1eef43f9-6050-42db-e54e-5231500c35c2"
      },
      "execution_count": null,
      "outputs": [
        {
          "output_type": "stream",
          "name": "stdout",
          "text": [
            "Collecting mendeleev\n",
            "  Downloading mendeleev-0.17.0-py3-none-any.whl.metadata (20 kB)\n",
            "Requirement already satisfied: Pygments<3.0.0,>=2.11.2 in /usr/local/lib/python3.10/dist-packages (from mendeleev) (2.18.0)\n",
            "Requirement already satisfied: SQLAlchemy>=1.4.0 in /usr/local/lib/python3.10/dist-packages (from mendeleev) (2.0.35)\n",
            "Collecting colorama<0.5.0,>=0.4.6 (from mendeleev)\n",
            "  Downloading colorama-0.4.6-py2.py3-none-any.whl.metadata (17 kB)\n",
            "Requirement already satisfied: numpy<2.0,>=1.21 in /usr/local/lib/python3.10/dist-packages (from mendeleev) (1.26.4)\n",
            "Requirement already satisfied: pandas>=1.0.0 in /usr/local/lib/python3.10/dist-packages (from mendeleev) (2.1.4)\n",
            "Collecting pyfiglet<0.9,>=0.8.post1 (from mendeleev)\n",
            "  Downloading pyfiglet-0.8.post1-py2.py3-none-any.whl.metadata (1.3 kB)\n",
            "Requirement already satisfied: python-dateutil>=2.8.2 in /usr/local/lib/python3.10/dist-packages (from pandas>=1.0.0->mendeleev) (2.8.2)\n",
            "Requirement already satisfied: pytz>=2020.1 in /usr/local/lib/python3.10/dist-packages (from pandas>=1.0.0->mendeleev) (2024.2)\n",
            "Requirement already satisfied: tzdata>=2022.1 in /usr/local/lib/python3.10/dist-packages (from pandas>=1.0.0->mendeleev) (2024.1)\n",
            "Requirement already satisfied: typing-extensions>=4.6.0 in /usr/local/lib/python3.10/dist-packages (from SQLAlchemy>=1.4.0->mendeleev) (4.12.2)\n",
            "Requirement already satisfied: greenlet!=0.4.17 in /usr/local/lib/python3.10/dist-packages (from SQLAlchemy>=1.4.0->mendeleev) (3.1.0)\n",
            "Requirement already satisfied: six>=1.5 in /usr/local/lib/python3.10/dist-packages (from python-dateutil>=2.8.2->pandas>=1.0.0->mendeleev) (1.16.0)\n",
            "Downloading mendeleev-0.17.0-py3-none-any.whl (367 kB)\n",
            "\u001b[2K   \u001b[90m━━━━━━━━━━━━━━━━━━━━━━━━━━━━━━━━━━━━━━━━\u001b[0m \u001b[32m367.4/367.4 kB\u001b[0m \u001b[31m5.6 MB/s\u001b[0m eta \u001b[36m0:00:00\u001b[0m\n",
            "\u001b[?25hDownloading colorama-0.4.6-py2.py3-none-any.whl (25 kB)\n",
            "Downloading pyfiglet-0.8.post1-py2.py3-none-any.whl (865 kB)\n",
            "\u001b[2K   \u001b[90m━━━━━━━━━━━━━━━━━━━━━━━━━━━━━━━━━━━━━━━━\u001b[0m \u001b[32m865.8/865.8 kB\u001b[0m \u001b[31m14.0 MB/s\u001b[0m eta \u001b[36m0:00:00\u001b[0m\n",
            "\u001b[?25hInstalling collected packages: pyfiglet, colorama, mendeleev\n",
            "Successfully installed colorama-0.4.6 mendeleev-0.17.0 pyfiglet-0.8.post1\n"
          ]
        }
      ]
    },
    {
      "cell_type": "code",
      "source": [
        "from mendeleev import Element"
      ],
      "metadata": {
        "id": "tc79UjDR19I-"
      },
      "execution_count": null,
      "outputs": []
    },
    {
      "cell_type": "markdown",
      "source": [
        "# Задача  \n",
        "Построить диаграмму рассеяния для стабильных изотопов: протоны vs. нейтроны."
      ],
      "metadata": {
        "id": "nANAL-ML3Tkt"
      }
    },
    {
      "cell_type": "code",
      "source": [
        "import numpy as np\n",
        "from matplotlib import pyplot as plt"
      ],
      "metadata": {
        "id": "ntl--urg2Dko"
      },
      "execution_count": null,
      "outputs": []
    },
    {
      "cell_type": "code",
      "source": [
        "from mendeleev import element, get_all_elements"
      ],
      "metadata": {
        "id": "8Cu2jQmD36Or"
      },
      "execution_count": null,
      "outputs": []
    },
    {
      "cell_type": "code",
      "source": [
        "element('O').mass_number, element('O').atomic_number"
      ],
      "metadata": {
        "colab": {
          "base_uri": "https://localhost:8080/"
        },
        "id": "ZFBPVmfq5C_F",
        "outputId": "2105c693-9c5f-4009-a5e8-25c0f39c40b3"
      },
      "execution_count": null,
      "outputs": [
        {
          "output_type": "execute_result",
          "data": {
            "text/plain": [
              "(16, 8)"
            ]
          },
          "metadata": {},
          "execution_count": 10
        }
      ]
    },
    {
      "cell_type": "code",
      "source": [
        "for elem in element('O').isotopes:\n",
        "  print(elem.atomic_number, elem.mass_number, elem.is_radioactive)"
      ],
      "metadata": {
        "colab": {
          "base_uri": "https://localhost:8080/"
        },
        "id": "h09rqsW85Fb7",
        "outputId": "6f5acd8a-05ec-4bd3-f4d3-1dfa9ba0a1c2"
      },
      "execution_count": null,
      "outputs": [
        {
          "output_type": "stream",
          "name": "stdout",
          "text": [
            "8 11 True\n",
            "8 12 True\n",
            "8 13 True\n",
            "8 14 True\n",
            "8 15 True\n",
            "8 16 False\n",
            "8 17 False\n",
            "8 18 False\n",
            "8 19 True\n",
            "8 20 True\n",
            "8 21 True\n",
            "8 22 True\n",
            "8 23 True\n",
            "8 24 True\n",
            "8 25 True\n",
            "8 26 True\n",
            "8 27 False\n",
            "8 28 False\n"
          ]
        }
      ]
    },
    {
      "cell_type": "code",
      "source": [
        "def get_from_mendeleev_table(find_func):\n",
        "  '''Итерирование по спискам изотопов всех элементов\n",
        "  Принимает на вход функции'''\n",
        "  seq = []\n",
        "  for elem in get_all_elements():\n",
        "    seq.append(find_func(elem))\n",
        "    for iso_ in elem.isotopes:\n",
        "      seq.append(find_func(iso_))\n",
        "  return seq\n",
        "\n",
        "def get_p_n(element_):\n",
        "  'Возвращает количество протонов и нейтронов'\n",
        "  if not element_.is_radioactive:\n",
        "    n_protons = element_.atomic_number\n",
        "    n_neutrons = element_.mass_number - n_protons\n",
        "    return n_protons, n_neutrons\n",
        "  else:\n",
        "    return np.nan, np.nan"
      ],
      "metadata": {
        "id": "zFqScvvo5WZD"
      },
      "execution_count": null,
      "outputs": []
    },
    {
      "cell_type": "code",
      "source": [
        "ps_ns = get_from_mendeleev_table(get_p_n)"
      ],
      "metadata": {
        "id": "hJJRME6Z6p71"
      },
      "execution_count": null,
      "outputs": []
    },
    {
      "cell_type": "code",
      "source": [
        "type(ps_ns), type(ps_ns[0]), len(ps_ns)"
      ],
      "metadata": {
        "colab": {
          "base_uri": "https://localhost:8080/"
        },
        "id": "tenvqmdN7cUn",
        "outputId": "22905cf8-40fe-467f-b408-cf727c986f0c"
      },
      "execution_count": null,
      "outputs": [
        {
          "output_type": "execute_result",
          "data": {
            "text/plain": [
              "(list, tuple, 3675)"
            ]
          },
          "metadata": {},
          "execution_count": 14
        }
      ]
    },
    {
      "cell_type": "code",
      "source": [
        "# 3675,2 -> not nan -> 2, xxx"
      ],
      "metadata": {
        "id": "huSH533u7hAP"
      },
      "execution_count": null,
      "outputs": []
    },
    {
      "cell_type": "markdown",
      "source": [
        "## 1. Избавление от NaN"
      ],
      "metadata": {
        "id": "xEyjQ5P38Ccg"
      }
    },
    {
      "cell_type": "code",
      "source": [
        "ps_ns_ndarray = np.array(ps_ns)\n",
        "ps_ns_ndarray.shape"
      ],
      "metadata": {
        "colab": {
          "base_uri": "https://localhost:8080/"
        },
        "id": "N9x1o5un8I-R",
        "outputId": "8caca881-cac7-4c08-a3e3-1deac54a4b69"
      },
      "execution_count": null,
      "outputs": [
        {
          "output_type": "execute_result",
          "data": {
            "text/plain": [
              "(3675, 2)"
            ]
          },
          "metadata": {},
          "execution_count": 16
        }
      ]
    },
    {
      "cell_type": "code",
      "source": [
        "~np.isnan(ps_ns_ndarray).any(axis=1)"
      ],
      "metadata": {
        "colab": {
          "base_uri": "https://localhost:8080/"
        },
        "id": "CpVXt7xA8NyX",
        "outputId": "cdcbd731-3976-4e75-8083-418dc2499cef"
      },
      "execution_count": null,
      "outputs": [
        {
          "output_type": "execute_result",
          "data": {
            "text/plain": [
              "array([ True,  True,  True, ..., False, False, False])"
            ]
          },
          "metadata": {},
          "execution_count": 17
        }
      ]
    },
    {
      "cell_type": "code",
      "source": [
        "not_nan_indicies = ~np.isnan(ps_ns_ndarray).any(axis=1)\n",
        "ps_ns_ndarray = ps_ns_ndarray[not_nan_indicies]\n",
        "ps_ns_ndarray.shape"
      ],
      "metadata": {
        "colab": {
          "base_uri": "https://localhost:8080/"
        },
        "id": "NbolZuw78VMf",
        "outputId": "d07b3d61-5c8a-4d27-a3c3-459ef84aef33"
      },
      "execution_count": null,
      "outputs": [
        {
          "output_type": "execute_result",
          "data": {
            "text/plain": [
              "(418, 2)"
            ]
          },
          "metadata": {},
          "execution_count": 18
        }
      ]
    },
    {
      "cell_type": "markdown",
      "source": [
        "## 2. Смена осей (транспонирование)"
      ],
      "metadata": {
        "id": "vYhFWgvd9_jJ"
      }
    },
    {
      "cell_type": "code",
      "source": [
        "ps_ns_ndarray = ps_ns_ndarray.T"
      ],
      "metadata": {
        "id": "IDbhCNys9E_G"
      },
      "execution_count": null,
      "outputs": []
    },
    {
      "cell_type": "code",
      "source": [
        "ps_ns_ndarray.shape"
      ],
      "metadata": {
        "colab": {
          "base_uri": "https://localhost:8080/"
        },
        "id": "Cg0KS1Dr9c7w",
        "outputId": "4867865f-93c9-48cd-b702-1cff331def81"
      },
      "execution_count": null,
      "outputs": [
        {
          "output_type": "execute_result",
          "data": {
            "text/plain": [
              "(2, 418)"
            ]
          },
          "metadata": {},
          "execution_count": 20
        }
      ]
    },
    {
      "cell_type": "markdown",
      "source": [
        "## 3. Визуализация"
      ],
      "metadata": {
        "id": "XlLax2wQ-XWa"
      }
    },
    {
      "cell_type": "code",
      "source": [
        "fig, ax = plt.subplots(figsize=(6,6))\n",
        "ax.scatter(ps_ns_ndarray[0], ps_ns_ndarray[1], s=10, c=ps_ns_ndarray[1],cmap='hsv')\n",
        "ax.set_xlabel('Число протонов, Z')\n",
        "ax.set_ylabel('Число нейтронов, A-Z')\n",
        "ax.set_xticks(np.arange(0, 111, 5), minor=True)\n",
        "ax.set_yticks(np.arange(0, 151, 5), minor=True)\n",
        "ax.set_title('Стабильные изотопы')\n",
        "ax.grid(True, 'both', 'both')\n",
        "None"
      ],
      "metadata": {
        "colab": {
          "base_uri": "https://localhost:8080/",
          "height": 564
        },
        "id": "HGcZJEuj9eOK",
        "outputId": "65dc91b6-d861-4a2c-f703-cf313ec7bdd0"
      },
      "execution_count": null,
      "outputs": [
        {
          "output_type": "display_data",
          "data": {
            "text/plain": [
              "<Figure size 600x600 with 1 Axes>"
            ],
            "image/png": "[encoded data removed]"
          },
          "metadata": {}
        }
      ]
    },
    {
      "cell_type": "markdown",
      "source": [
        "float or array-like, shape (n, ), optional\n",
        "    The marker size in points**2 (typographic points are 1/72 in.).\n",
        "    Default is ``rcParams['l"
      ],
      "metadata": {
        "id": "PVOHcxiTCCcS"
      }
    }
  ]
}